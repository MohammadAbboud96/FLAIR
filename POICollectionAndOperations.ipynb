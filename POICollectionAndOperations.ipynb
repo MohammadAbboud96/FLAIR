{
 "cells": [
  {
   "cell_type": "code",
   "execution_count": null,
   "id": "4d3c811a",
   "metadata": {},
   "outputs": [],
   "source": [
    "from LocationPredictionUtils import *"
   ]
  },
  {
   "cell_type": "markdown",
   "id": "fa86ffbb",
   "metadata": {},
   "source": [
    "# Define the bounding box coordinates (Santorini)"
   ]
  },
  {
   "cell_type": "code",
   "execution_count": null,
   "id": "a3e3a313",
   "metadata": {},
   "outputs": [],
   "source": [
    "bottomLeft = (25.317,36.328)\n",
    "bottomRight = (25.492, 36.328)\n",
    "topLeft = (25.317, 36.485)\n",
    "topRight = (25.492,36.485)"
   ]
  },
  {
   "cell_type": "code",
   "execution_count": null,
   "id": "854b9e48",
   "metadata": {},
   "outputs": [],
   "source": []
  },
  {
   "cell_type": "markdown",
   "id": "17a5c4aa",
   "metadata": {},
   "source": [
    "# Crawel the POIS within the defined region and save the results"
   ]
  },
  {
   "cell_type": "code",
   "execution_count": null,
   "id": "50d265e9",
   "metadata": {},
   "outputs": [],
   "source": [
    "crawler = POICrawler()"
   ]
  },
  {
   "cell_type": "code",
   "execution_count": null,
   "id": "486fe3ec",
   "metadata": {},
   "outputs": [],
   "source": [
    "queries=['[timeout:9000];nwr(36.328,25.317,36.485,25.492)[~\".\"~\".\"];out;']\n",
    "crawler.find_POIs(queries)"
   ]
  },
  {
   "cell_type": "code",
   "execution_count": null,
   "id": "5d71849f",
   "metadata": {},
   "outputs": [],
   "source": [
    "crawler.savePOIs(path='./santorini_pois.csv')"
   ]
  },
  {
   "cell_type": "code",
   "execution_count": null,
   "id": "962f0597",
   "metadata": {},
   "outputs": [],
   "source": []
  },
  {
   "cell_type": "code",
   "execution_count": null,
   "id": "edead0cb",
   "metadata": {},
   "outputs": [],
   "source": []
  },
  {
   "cell_type": "markdown",
   "id": "2b0f51b3",
   "metadata": {},
   "source": [
    "# Define a OperationPOI object to perform split and save train and test data for collected POIS"
   ]
  },
  {
   "cell_type": "code",
   "execution_count": null,
   "id": "ca958b35",
   "metadata": {},
   "outputs": [],
   "source": [
    "'''\n",
    "OperationsPOI takes a dataframe of POIs data as an input and allows us to perform different operations\n",
    "'''\n",
    "poisOperations = OperationsPOI(data=df)"
   ]
  },
  {
   "cell_type": "code",
   "execution_count": null,
   "id": "79206d34",
   "metadata": {},
   "outputs": [],
   "source": [
    "'''\n",
    "num is the number of columns and rows if it is 10 then the granularity is 10X10 \n",
    "split function divides the area of interest into cells based on the granularity specified \n",
    "and assigns for each POI record its corresponding cell\n",
    "'''\n",
    "poisOperations.split(bottomLeft=bottomLeft,bottomRigh=bottomRight,topLeft=topLeft,topRight=topRight,num=num)"
   ]
  },
  {
   "cell_type": "code",
   "execution_count": null,
   "id": "fbee300c",
   "metadata": {},
   "outputs": [],
   "source": [
    "'''\n",
    "split_data_into_train_test function saves the train and test data into the specified files\n",
    "after splitting the data according to the specified test_size ration\n",
    "'''\n",
    "poisOperations.split_data_into_train_test(train_path='path_to_train_file',test_path='path_to_test_file',test_size=0.33)"
   ]
  },
  {
   "cell_type": "code",
   "execution_count": null,
   "id": "0bb46b12",
   "metadata": {},
   "outputs": [],
   "source": [
    "'''\n",
    "plot function plots the locations of the POI records on the map and their distribution over cells\n",
    "'''\n",
    "poisOperations.plot()"
   ]
  },
  {
   "cell_type": "code",
   "execution_count": null,
   "id": "9fcb5082",
   "metadata": {},
   "outputs": [],
   "source": []
  },
  {
   "cell_type": "code",
   "execution_count": null,
   "id": "009d20fd",
   "metadata": {},
   "outputs": [],
   "source": []
  },
  {
   "cell_type": "code",
   "execution_count": null,
   "id": "80f3ad57",
   "metadata": {},
   "outputs": [],
   "source": []
  },
  {
   "cell_type": "code",
   "execution_count": null,
   "id": "4e70449e",
   "metadata": {},
   "outputs": [],
   "source": []
  }
 ],
 "metadata": {
  "kernelspec": {
   "display_name": "Python 3",
   "language": "python",
   "name": "python3"
  },
  "language_info": {
   "codemirror_mode": {
    "name": "ipython",
    "version": 3
   },
   "file_extension": ".py",
   "mimetype": "text/x-python",
   "name": "python",
   "nbconvert_exporter": "python",
   "pygments_lexer": "ipython3",
   "version": "3.8.8"
  }
 },
 "nbformat": 4,
 "nbformat_minor": 5
}
