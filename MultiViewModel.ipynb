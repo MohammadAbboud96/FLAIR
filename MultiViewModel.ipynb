{
 "cells": [
  {
   "cell_type": "code",
   "execution_count": null,
   "id": "b2e9814c",
   "metadata": {},
   "outputs": [],
   "source": [
    "from LocationPredictionUtils import *"
   ]
  },
  {
   "cell_type": "code",
   "execution_count": null,
   "id": "34e92a4b",
   "metadata": {},
   "outputs": [],
   "source": [
    "from sklearn.metrics import cohen_kappa_score"
   ]
  },
  {
   "cell_type": "markdown",
   "id": "b4a605b2",
   "metadata": {},
   "source": [
    "## Define the bounding box coordinates"
   ]
  },
  {
   "cell_type": "code",
   "execution_count": null,
   "id": "7d17bf10",
   "metadata": {},
   "outputs": [],
   "source": [
    "bottomLeft = (25.317,36.328)\n",
    "bottomRight = (25.492, 36.328)\n",
    "topLeft = (25.317, 36.485)\n",
    "topRight = (25.492,36.485)"
   ]
  },
  {
   "cell_type": "code",
   "execution_count": null,
   "id": "71f0bedd",
   "metadata": {},
   "outputs": [],
   "source": []
  },
  {
   "cell_type": "markdown",
   "id": "de951de6",
   "metadata": {},
   "source": [
    "##### The prediction of each view will be saved in a seperate file make sure that the names of the columns are as follow:\n",
    "    - For Spatial model the columns should be named as original_detected_label_(granularity) for the predicted label by the spatail model and scores for the probability of this prediction\n",
    "    - For Textual model the columns should be named as original_predicted_label_(granularity) for the predicted label by the textual model and probability_labels_(granularity) for the probability of this prediction\n",
    "    - The real label should be named as original_tweet_label_(granularity)"
   ]
  },
  {
   "cell_type": "code",
   "execution_count": null,
   "id": "9e25a5ce",
   "metadata": {},
   "outputs": [],
   "source": []
  },
  {
   "cell_type": "code",
   "execution_count": null,
   "id": "a4e8206d",
   "metadata": {},
   "outputs": [],
   "source": []
  },
  {
   "cell_type": "markdown",
   "id": "57e572e2",
   "metadata": {},
   "source": [
    "## MV (5x5)"
   ]
  },
  {
   "cell_type": "code",
   "execution_count": null,
   "id": "4d7e4348",
   "metadata": {},
   "outputs": [],
   "source": [
    "nb=5\n",
    "mv=MultiViewLearner(name=\"(\"+str(nb)+\"x\"+str(nb)+\")\",path_to_POIs='path_to_spatial_model_results',path_to_tweets='path_to_textual_model_resuls',columns=['original_predicted_label_'+str(nb),'original_detected_label_'+str(nb),'probability_labels_'+str(nb),'scores','original_tweet_label_'+str(nb)])\n",
    "mv.train_and_validate(saving_path='./models/',save_model=True)"
   ]
  },
  {
   "cell_type": "code",
   "execution_count": null,
   "id": "04769dbc",
   "metadata": {},
   "outputs": [],
   "source": [
    "y_pred=mv.clf.predict(mv.X_test)\n",
    "y_true=mv.y_test"
   ]
  },
  {
   "cell_type": "code",
   "execution_count": null,
   "id": "2b4bc6a0",
   "metadata": {},
   "outputs": [],
   "source": []
  },
  {
   "cell_type": "code",
   "execution_count": null,
   "id": "c8350bd4",
   "metadata": {},
   "outputs": [],
   "source": []
  },
  {
   "cell_type": "markdown",
   "id": "7ff125ba",
   "metadata": {},
   "source": [
    "## MV (10x10)"
   ]
  },
  {
   "cell_type": "code",
   "execution_count": null,
   "id": "e0cf5990",
   "metadata": {},
   "outputs": [],
   "source": [
    "nb=10\n",
    "mv=MultiViewLearner(name=\"(\"+str(nb)+\"x\"+str(nb)+\")\",path_to_POIs='path_to_spatial_model_results',path_to_tweets='path_to_textual_model_resuls',columns=['original_predicted_label_'+str(nb),'original_detected_label_'+str(nb),'probability_labels_'+str(nb),'scores','original_tweet_label_'+str(nb)])\n",
    "mv.train_and_validate(saving_path='./models/',save_model=True)"
   ]
  },
  {
   "cell_type": "code",
   "execution_count": null,
   "id": "8cc9f1d6",
   "metadata": {},
   "outputs": [],
   "source": [
    "y_pred=mv.clf.predict(mv.X_test)\n",
    "y_true=mv.y_test"
   ]
  },
  {
   "cell_type": "code",
   "execution_count": null,
   "id": "6edc72aa",
   "metadata": {},
   "outputs": [],
   "source": []
  },
  {
   "cell_type": "code",
   "execution_count": null,
   "id": "d7c7a564",
   "metadata": {},
   "outputs": [],
   "source": []
  },
  {
   "cell_type": "markdown",
   "id": "58e1d3e9",
   "metadata": {},
   "source": [
    "## MV (15x15)"
   ]
  },
  {
   "cell_type": "code",
   "execution_count": null,
   "id": "ec038aaa",
   "metadata": {},
   "outputs": [],
   "source": [
    "nb=15\n",
    "mv=MultiViewLearner(name=\"(\"+str(nb)+\"x\"+str(nb)+\")\",path_to_POIs='path_to_spatial_model_results',path_to_tweets='path_to_textual_model_resuls',columns=['original_predicted_label_'+str(nb),'original_detected_label_'+str(nb),'probability_labels_'+str(nb),'scores','original_tweet_label_'+str(nb)])\n",
    "mv.train_and_validate(saving_path='./models/',save_model=True)"
   ]
  },
  {
   "cell_type": "code",
   "execution_count": null,
   "id": "6e73e7fc",
   "metadata": {},
   "outputs": [],
   "source": [
    "y_pred=mv.clf.predict(mv.X_test)\n",
    "y_true=mv.y_test"
   ]
  },
  {
   "cell_type": "code",
   "execution_count": null,
   "id": "3fbef2f4",
   "metadata": {},
   "outputs": [],
   "source": []
  },
  {
   "cell_type": "markdown",
   "id": "eef5347b",
   "metadata": {},
   "source": [
    "## MV (30x30)"
   ]
  },
  {
   "cell_type": "code",
   "execution_count": null,
   "id": "3e266268",
   "metadata": {},
   "outputs": [],
   "source": [
    "nb=30\n",
    "mv=MultiViewLearner(name=\"(\"+str(nb)+\"x\"+str(nb)+\")\",path_to_POIs='path_to_spatial_model_results',path_to_tweets='path_to_textual_model_resuls',columns=['original_predicted_label_'+str(nb),'original_detected_label_'+str(nb),'probability_labels_'+str(nb),'scores','original_tweet_label_'+str(nb)])\n",
    "mv.train_and_validate(saving_path='./models/',save_model=True)"
   ]
  },
  {
   "cell_type": "code",
   "execution_count": null,
   "id": "ad082c8a",
   "metadata": {},
   "outputs": [],
   "source": [
    "y_pred=mv.clf.predict(mv.X_test)\n",
    "y_true=mv.y_test"
   ]
  },
  {
   "cell_type": "code",
   "execution_count": null,
   "id": "2db14577",
   "metadata": {},
   "outputs": [],
   "source": []
  },
  {
   "cell_type": "code",
   "execution_count": null,
   "id": "abe41068",
   "metadata": {},
   "outputs": [],
   "source": []
  },
  {
   "cell_type": "markdown",
   "id": "08a40257",
   "metadata": {},
   "source": [
    "## MV (50x50)"
   ]
  },
  {
   "cell_type": "code",
   "execution_count": null,
   "id": "f3491257",
   "metadata": {},
   "outputs": [],
   "source": [
    "nb=50\n",
    "mv=MultiViewLearner(name=\"(\"+str(nb)+\"x\"+str(nb)+\")\",path_to_POIs='path_to_spatial_model_results',path_to_tweets='path_to_textual_model_resuls',columns=['original_predicted_label_'+str(nb),'original_detected_label_'+str(nb),'probability_labels_'+str(nb),'scores','original_tweet_label_'+str(nb)])\n",
    "mv.train_and_validate(saving_path='./models/',save_model=True)"
   ]
  },
  {
   "cell_type": "code",
   "execution_count": null,
   "id": "6bdaf5bb",
   "metadata": {},
   "outputs": [],
   "source": [
    "y_pred=mv.clf.predict(mv.X_test)\n",
    "y_true=mv.y_test"
   ]
  },
  {
   "cell_type": "code",
   "execution_count": null,
   "id": "6e0cd20f",
   "metadata": {},
   "outputs": [],
   "source": []
  },
  {
   "cell_type": "code",
   "execution_count": null,
   "id": "8d3c1948",
   "metadata": {},
   "outputs": [],
   "source": []
  }
 ],
 "metadata": {
  "kernelspec": {
   "display_name": "Python 3",
   "language": "python",
   "name": "python3"
  },
  "language_info": {
   "codemirror_mode": {
    "name": "ipython",
    "version": 3
   },
   "file_extension": ".py",
   "mimetype": "text/x-python",
   "name": "python",
   "nbconvert_exporter": "python",
   "pygments_lexer": "ipython3",
   "version": "3.8.8"
  }
 },
 "nbformat": 4,
 "nbformat_minor": 5
}
