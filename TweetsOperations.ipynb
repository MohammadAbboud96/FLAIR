{
 "cells": [
  {
   "cell_type": "code",
   "execution_count": null,
   "id": "0ee27f55",
   "metadata": {},
   "outputs": [],
   "source": [
    "from LocationPredictionUtils import *"
   ]
  },
  {
   "cell_type": "markdown",
   "id": "fa86ffbb",
   "metadata": {},
   "source": [
    "# Define the bounding box coordinates (Santorini)"
   ]
  },
  {
   "cell_type": "code",
   "execution_count": null,
   "id": "a3e3a313",
   "metadata": {},
   "outputs": [],
   "source": [
    "bottomLeft = (25.317,36.328)\n",
    "bottomRight = (25.492, 36.328)\n",
    "topLeft = (25.317, 36.485)\n",
    "topRight = (25.492,36.485)"
   ]
  },
  {
   "cell_type": "code",
   "execution_count": null,
   "id": "5883048f",
   "metadata": {},
   "outputs": [],
   "source": []
  },
  {
   "cell_type": "markdown",
   "id": "52cd24bc",
   "metadata": {},
   "source": [
    "# Load tweets data from the specified file"
   ]
  },
  {
   "cell_type": "code",
   "execution_count": null,
   "id": "8d6b5335",
   "metadata": {},
   "outputs": [],
   "source": [
    "tweets=pd.read_csv('path_to_file')"
   ]
  },
  {
   "cell_type": "code",
   "execution_count": null,
   "id": "74ec4f85",
   "metadata": {},
   "outputs": [],
   "source": []
  },
  {
   "cell_type": "markdown",
   "id": "8369a058",
   "metadata": {},
   "source": [
    "# Create a tweet Operations object to perform some operations on tweet"
   ]
  },
  {
   "cell_type": "code",
   "execution_count": null,
   "id": "d4e4a79d",
   "metadata": {},
   "outputs": [],
   "source": [
    "tweetOperations=TweetsOperations(data=tweets)"
   ]
  },
  {
   "cell_type": "code",
   "execution_count": null,
   "id": "1cc878f1",
   "metadata": {},
   "outputs": [],
   "source": [
    "'''Find the latitude and longitude of the tweets from geo data'''\n",
    "tweetOperations.find_long_lat()"
   ]
  },
  {
   "cell_type": "code",
   "execution_count": null,
   "id": "3349183a",
   "metadata": {},
   "outputs": [],
   "source": [
    "'''Split the map into cells and assign tweets to each cell'''\n",
    "tweetOperations.split(bottomLeft=bottomLeft,bottomRigh=bottomRight,topLeft=topLeft,topRight=topRight,num=10)"
   ]
  },
  {
   "cell_type": "code",
   "execution_count": null,
   "id": "6e692307",
   "metadata": {},
   "outputs": [],
   "source": [
    "'''Clean the text and remove the stop words'''\n",
    "tweetOperations.preprocessText()"
   ]
  },
  {
   "cell_type": "code",
   "execution_count": null,
   "id": "aabfa0b1",
   "metadata": {},
   "outputs": [],
   "source": [
    "'''Calculate the embedding of the preprocessed text'''\n",
    "tweetOperations.calculate_and_save_embedding(path='embedding_santorini.npy')"
   ]
  },
  {
   "cell_type": "code",
   "execution_count": null,
   "id": "d0e58851",
   "metadata": {},
   "outputs": [],
   "source": [
    "'''Find the entities in each tweet text (Location, Person, Organization...)'''\n",
    "tweetOperations.applyNER(columnName='text')"
   ]
  },
  {
   "cell_type": "code",
   "execution_count": null,
   "id": "31f478b8",
   "metadata": {
    "scrolled": false
   },
   "outputs": [],
   "source": [
    "'''Compute the sentence similarity'''\n",
    "tweetOperations.find_sentence_similarity()"
   ]
  },
  {
   "cell_type": "code",
   "execution_count": null,
   "id": "83223b13",
   "metadata": {},
   "outputs": [],
   "source": []
  }
 ],
 "metadata": {
  "kernelspec": {
   "display_name": "Python 3",
   "language": "python",
   "name": "python3"
  },
  "language_info": {
   "codemirror_mode": {
    "name": "ipython",
    "version": 3
   },
   "file_extension": ".py",
   "mimetype": "text/x-python",
   "name": "python",
   "nbconvert_exporter": "python",
   "pygments_lexer": "ipython3",
   "version": "3.8.8"
  }
 },
 "nbformat": 4,
 "nbformat_minor": 5
}
